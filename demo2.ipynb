{
 "cells": [
  {
   "cell_type": "code",
   "execution_count": null,
   "metadata": {},
   "outputs": [],
   "source": [
    "import os\n",
    "import gym\n",
    "\n",
    "os.unsetenv(\"SESSION_MANAGER\") # Supress rendering issue\n",
    "\n",
    "env = gym.make(\"mot_gym:BasicMOT-v1\")"
   ]
  },
  {
   "cell_type": "code",
   "execution_count": null,
   "metadata": {},
   "outputs": [],
   "source": [
    "# obs, info = env.reset()\n",
    "obs = env.reset()\n",
    "# print(f\"Frame: {info['curr_frame']}, TrackIDs: {info['tracks_ids']}\")\n",
    "# env.render()\n",
    "\n",
    "done = False\n",
    "while not done: \n",
    "    obs, reward, done, info = env.step(1)#env.action_space.sample())\n",
    "    if info['curr_frame'] % 10 == 0 and info['curr_track']['track_idx'] == 0:\n",
    "        print(f\"Frame: {info['curr_frame']}, TrackIDs: {info['tracks_ids']}\")\n",
    "    # env.render()\n",
    "env.close()"
   ]
  },
  {
   "cell_type": "code",
   "execution_count": null,
   "metadata": {},
   "outputs": [],
   "source": [
    "# RL Lib\n",
    "import ray\n",
    "import sys\n",
    "from ray.rllib.agents import ppo\n",
    "from ray.tune.logger import pretty_print"
   ]
  },
  {
   "cell_type": "code",
   "execution_count": null,
   "metadata": {},
   "outputs": [],
   "source": [
    "# ray.init()\n",
    "from ray import rllib\n",
    "rllib.utils.check_env(env)"
   ]
  },
  {
   "cell_type": "code",
   "execution_count": null,
   "metadata": {},
   "outputs": [],
   "source": [
    "ray.shutdown()"
   ]
  },
  {
   "cell_type": "code",
   "execution_count": null,
   "metadata": {},
   "outputs": [],
   "source": [
    "config = ppo.DEFAULT_CONFIG.copy()\n",
    "config[\"framework\"] = \"torch\"\n",
    "config[\"num_gpus\"] = 1\n",
    "config[\"num_workers\"] = 7\n",
    "\n",
    "# trainer = ppo.PPOTrainer(config=config, env=\"test_basic:test-v2\")\n",
    "trainer = ppo.PPOTrainer(config=config, env=\"mot_gym:BasicMOT-v1\")"
   ]
  },
  {
   "cell_type": "code",
   "execution_count": null,
   "metadata": {},
   "outputs": [],
   "source": [
    "# Train using env\n",
    "for i in range(1):\n",
    "   # Perform one iteration of training the policy with PPO\n",
    "   result = trainer.train()\n",
    "   print(pretty_print(result))\n",
    "\n",
    "   if i % 10 == 0:\n",
    "       checkpoint = trainer.save()\n",
    "       print(\"checkpoint saved at\", checkpoint)"
   ]
  }
 ],
 "metadata": {
  "kernelspec": {
   "display_name": "Python 3.8.13 ('FairMOT')",
   "language": "python",
   "name": "python3"
  },
  "language_info": {
   "codemirror_mode": {
    "name": "ipython",
    "version": 3
   },
   "file_extension": ".py",
   "mimetype": "text/x-python",
   "name": "python",
   "nbconvert_exporter": "python",
   "pygments_lexer": "ipython3",
   "version": "3.8.13"
  },
  "orig_nbformat": 4,
  "vscode": {
   "interpreter": {
    "hash": "d7ce69a9c48907c8d83ae3629e84d6226851d3be7e4bf2483773f5d03f113ef1"
   }
  }
 },
 "nbformat": 4,
 "nbformat_minor": 2
}
