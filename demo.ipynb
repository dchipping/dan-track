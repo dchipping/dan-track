{
 "cells": [
  {
   "cell_type": "code",
   "execution_count": 1,
   "metadata": {},
   "outputs": [
    {
     "name": "stdout",
     "output_type": "stream",
     "text": [
      "Fix size testing.\n",
      "training chunk_sizes: [6, 6]\n",
      "heads {'hm': 1, 'wh': 2, 'id': 512, 'reg': 2}\n",
      "Creating model...\n",
      "loaded /home/dchipping/project/dan-track/mot-gym/mot_gym/pretrained/all_dla34.pth, epoch 10\n",
      "Frame: 2, TrackIDs: {1, 2, 3}\r"
     ]
    },
    {
     "name": "stderr",
     "output_type": "stream",
     "text": [
      "Qt: Session management error: Could not open network socket\n"
     ]
    },
    {
     "name": "stdout",
     "output_type": "stream",
     "text": [
      "Frame: 8, TrackIDs: {1, 2, 3, 4, 5, 6}\r"
     ]
    }
   ],
   "source": [
    "import os\n",
    "import gym\n",
    "import sys\n",
    "os.unsetenv(\"SESSION_MANAGER\") # - After\n",
    "env = gym.make(\"mot_gym:BasicMOT-v0\")\n",
    "obs, info = env.reset()   \n",
    "sys.stdout.write(f\"Frame: {info['curr_frame']}, TrackIDs: {info['tracks_ids']}\\r\")\n",
    "done = False\n",
    "while not done:\n",
    "    sys.stdout.flush()\n",
    "    obs, reward, done, info = env.step(env.action_space.sample())\n",
    "    sys.stdout.write(f\"Frame: {info['curr_frame']}, TrackIDs: {info['tracks_ids']}\\r\")\n",
    "    env.render()\n",
    "env.close()"
   ]
  },
  {
   "cell_type": "markdown",
   "metadata": {},
   "source": [
    "## MOT Gym Demo"
   ]
  },
  {
   "cell_type": "code",
   "execution_count": null,
   "metadata": {},
   "outputs": [],
   "source": [
    "# Env essentials\n",
    "import os\n",
    "import gym\n",
    "import numpy as np"
   ]
  },
  {
   "cell_type": "code",
   "execution_count": null,
   "metadata": {},
   "outputs": [],
   "source": [
    "# RL Lib\n",
    "import ray\n",
    "from ray.rllib.agents.ppo import PPOTrainer"
   ]
  },
  {
   "cell_type": "markdown",
   "metadata": {},
   "source": [
    "### Start by playing with Env\n",
    "- Test env is working\n",
    "- Understand action space\n",
    "- Understand observation space"
   ]
  },
  {
   "cell_type": "code",
   "execution_count": null,
   "metadata": {},
   "outputs": [],
   "source": [
    "# Make env\n",
    "env = gym.make(\"mot_gym:BasicMOT-v0\")"
   ]
  },
  {
   "cell_type": "code",
   "execution_count": null,
   "metadata": {},
   "outputs": [],
   "source": [
    "# Reset env, should see an observation\n",
    "obs, _ = env.reset()\n",
    "f\"Does this have a correct obs space? - {env.observation_space.contains(obs)}\""
   ]
  },
  {
   "cell_type": "code",
   "execution_count": null,
   "metadata": {},
   "outputs": [],
   "source": [
    "# Squashs \"Qt: Session management error: Could not open network socket\" bug\n",
    "# !echo SESSION_MANAGER - Before\n",
    "os.unsetenv(\"SESSION_MANAGER\") # - After"
   ]
  },
  {
   "cell_type": "code",
   "execution_count": null,
   "metadata": {},
   "outputs": [],
   "source": [
    "# Visualise frame\n",
    "env.render()"
   ]
  },
  {
   "cell_type": "code",
   "execution_count": null,
   "metadata": {},
   "outputs": [],
   "source": [
    "# Kill open window\n",
    "env.close()"
   ]
  },
  {
   "cell_type": "code",
   "execution_count": null,
   "metadata": {},
   "outputs": [],
   "source": [
    "done = False\n",
    "while not done:\n",
    "    obs, reward, done, info = env.step(env.action_space.sample())\n",
    "    env.render()\n",
    "env.close()"
   ]
  },
  {
   "cell_type": "code",
   "execution_count": null,
   "metadata": {},
   "outputs": [],
   "source": [
    "# Take multiple steps\n",
    "for _ in range(5):\n",
    "    env.step(env.action_space.sample())\n",
    "    env.render()\n",
    "env.close()"
   ]
  },
  {
   "cell_type": "code",
   "execution_count": null,
   "metadata": {},
   "outputs": [],
   "source": [
    "# More steps - hopefully new frame!\n",
    "for _ in range(3):\n",
    "    env.step(env.action_space.sample())"
   ]
  },
  {
   "cell_type": "code",
   "execution_count": null,
   "metadata": {},
   "outputs": [],
   "source": []
  }
 ],
 "metadata": {
  "kernelspec": {
   "display_name": "Python 3.7.0 ('dan-track')",
   "language": "python",
   "name": "python3"
  },
  "language_info": {
   "codemirror_mode": {
    "name": "ipython",
    "version": 3
   },
   "file_extension": ".py",
   "mimetype": "text/x-python",
   "name": "python",
   "nbconvert_exporter": "python",
   "pygments_lexer": "ipython3",
   "version": "3.7.0"
  },
  "orig_nbformat": 4,
  "vscode": {
   "interpreter": {
    "hash": "8bb13135de9f7b353b238ca9c322ce71fca2075afe83a3eda4502f1062b1f762"
   }
  }
 },
 "nbformat": 4,
 "nbformat_minor": 2
}
